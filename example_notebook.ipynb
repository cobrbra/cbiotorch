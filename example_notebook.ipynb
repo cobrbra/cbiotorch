{
 "cells": [
  {
   "cell_type": "code",
   "execution_count": 1,
   "metadata": {},
   "outputs": [],
   "source": [
    "from cbiotorch.data import MutationDataset\n",
    "from cbiotorch.transforms import ToSparseCountTensor"
   ]
  },
  {
   "cell_type": "code",
   "execution_count": 2,
   "metadata": {},
   "outputs": [],
   "source": [
    "transform_sparse = ToSparseCountTensor([\"hugoGeneSymbol\"])"
   ]
  },
  {
   "cell_type": "code",
   "execution_count": 6,
   "metadata": {},
   "outputs": [],
   "source": [
    "msk_mutations = MutationDataset(study_id=\"msk_impact_2017\", transform=transform_sparse)\n",
    "msk_mutations.write(replace=True)"
   ]
  },
  {
   "cell_type": "code",
   "execution_count": 9,
   "metadata": {},
   "outputs": [
    {
     "data": {
      "text/plain": [
       "tensor(indices=tensor([[ 0,  9,  5,  8, 11,  2,  3,  6, 10,  1,  7,  4, 13, 12]]),\n",
       "       values=tensor([1, 1, 2, 1, 1, 1, 1, 2, 1, 1, 1, 1, 1, 1]),\n",
       "       size=(14,), nnz=14, layout=torch.sparse_coo)"
      ]
     },
     "execution_count": 9,
     "metadata": {},
     "output_type": "execute_result"
    }
   ],
   "source": [
    "msk_mutations.__getitem__(0)"
   ]
  },
  {
   "cell_type": "code",
   "execution_count": null,
   "metadata": {},
   "outputs": [],
   "source": []
  }
 ],
 "metadata": {
  "kernelspec": {
   "display_name": "Python 3.10.7 ('.turing_venv': venv)",
   "language": "python",
   "name": "python3"
  },
  "language_info": {
   "codemirror_mode": {
    "name": "ipython",
    "version": 3
   },
   "file_extension": ".py",
   "mimetype": "text/x-python",
   "name": "python",
   "nbconvert_exporter": "python",
   "pygments_lexer": "ipython3",
   "version": "3.10.7"
  },
  "orig_nbformat": 4,
  "vscode": {
   "interpreter": {
    "hash": "0b8bff0248736755362b0b04f8fc4728f16af48b09cef1f60d19e4c72b0590cc"
   }
  }
 },
 "nbformat": 4,
 "nbformat_minor": 2
}
